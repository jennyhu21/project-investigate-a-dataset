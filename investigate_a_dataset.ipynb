{
 "cells": [
  {
   "cell_type": "markdown",
   "metadata": {},
   "source": [
    "# Project: Investigate a Dataset\n",
    "### Jenny Hu"
   ]
  },
  {
   "cell_type": "markdown",
   "metadata": {},
   "source": [
    "## Introduction\n",
    "***\n",
    "For this project, I will be analyzing the \"TMDb movie data\" dataset provided by [Kaggle](https://www.kaggle.com/tmdb/tmdb-movie-metadata). This dataset contains information on 10,000 movies collected from The Movie Database(TMDb). The information that interests me in this dataset includes the budget and revenue of each movie, user ratings and popularity, as well as genre and etc. \n",
    "\n",
    "This prompts me to ask the following questions:\n",
    "- Which movie has the highest profit and which one has the lowest?\n",
    "- Do movies with higher budget generate more revenue?\n",
    "- How does user ratings affect profit?\n",
    "- How does profit change over the years?\n",
    "- Which directors generate the highest profit?\n",
    "- Which movie genre generate the highest profit?\n",
    "\n",
    "Ultimately, I want to know what it takes to create a profitable movie.\n",
    "***"
   ]
  },
  {
   "cell_type": "markdown",
   "metadata": {},
   "source": [
    "## Getting Organized"
   ]
  },
  {
   "cell_type": "code",
   "execution_count": 102,
   "metadata": {},
   "outputs": [
    {
     "name": "stdout",
     "output_type": "stream",
     "text": [
      "Populating the interactive namespace from numpy and matplotlib\n"
     ]
    }
   ],
   "source": [
    "# Import necessary modules for this report\n",
    "import numpy as np\n",
    "import pandas as pd\n",
    "import matplotlib.pyplot as plt\n",
    "import seaborn as sns\n",
    "import csv\n",
    "\n",
    "# Visualize plots inline for this document \n",
    "%pylab inline"
   ]
  },
  {
   "cell_type": "markdown",
   "metadata": {},
   "source": [
    "## Load CSV data into DataFrame"
   ]
  },
  {
   "cell_type": "code",
   "execution_count": 169,
   "metadata": {},
   "outputs": [
    {
     "name": "stdout",
     "output_type": "stream",
     "text": [
      "<class 'pandas.core.frame.DataFrame'>\n",
      "RangeIndex: 10866 entries, 0 to 10865\n",
      "Data columns (total 21 columns):\n",
      "id                      10866 non-null int64\n",
      "imdb_id                 10856 non-null object\n",
      "popularity              10866 non-null float64\n",
      "budget                  10866 non-null int64\n",
      "revenue                 10866 non-null int64\n",
      "original_title          10866 non-null object\n",
      "cast                    10790 non-null object\n",
      "homepage                2936 non-null object\n",
      "director                10822 non-null object\n",
      "tagline                 8042 non-null object\n",
      "keywords                9373 non-null object\n",
      "overview                10862 non-null object\n",
      "runtime                 10866 non-null int64\n",
      "genres                  10843 non-null object\n",
      "production_companies    9836 non-null object\n",
      "release_date            10866 non-null object\n",
      "vote_count              10866 non-null int64\n",
      "vote_average            10866 non-null float64\n",
      "release_year            10866 non-null int64\n",
      "budget_adj              10866 non-null float64\n",
      "revenue_adj             10866 non-null float64\n",
      "dtypes: float64(4), int64(6), object(11)\n",
      "memory usage: 1.7+ MB\n"
     ]
    }
   ],
   "source": [
    "# Read csv into Pandas Dataframe and store in dataset variable\n",
    "movies_df = pd.read_csv('tmdb-movies.csv')\n",
    "\n",
    "# Show information on the dataset\n",
    "movies_df.info()"
   ]
  },
  {
   "cell_type": "markdown",
   "metadata": {},
   "source": [
    "## Data Wrangling\n",
    "***\n",
    "> ### General information\n",
    "- There are 10866 movie entires (rows)\n",
    "- There are 21 columns\n",
    "- There are missing values in some of the columns\n",
    "- Since we are interested on how certain movie features affect budget/revenue, we will select entries that has completed information for both budget and revenue\n",
    "\n",
    "> ### Steps to clean up the data\n",
    "- Remove any duplicates in the dataset\n",
    "- Keey columns that are necessary for the analysis and remove the others\n",
    "- Remove rows with 0 or NaN values for budget and revenue\n",
    "- Create a column with profit (revenue - budget)\n",
    "***"
   ]
  },
  {
   "cell_type": "code",
   "execution_count": 170,
   "metadata": {},
   "outputs": [],
   "source": [
    "# Remove Duplicates\n",
    "movies_df.drop_duplicates(inplace=True)"
   ]
  },
  {
   "cell_type": "markdown",
   "metadata": {},
   "source": [
    "There is now 10864 entires remaining, which means 1 duplicate row was removed."
   ]
  },
  {
   "cell_type": "code",
   "execution_count": 171,
   "metadata": {},
   "outputs": [
    {
     "data": {
      "text/html": [
       "<div>\n",
       "<style scoped>\n",
       "    .dataframe tbody tr th:only-of-type {\n",
       "        vertical-align: middle;\n",
       "    }\n",
       "\n",
       "    .dataframe tbody tr th {\n",
       "        vertical-align: top;\n",
       "    }\n",
       "\n",
       "    .dataframe thead th {\n",
       "        text-align: right;\n",
       "    }\n",
       "</style>\n",
       "<table border=\"1\" class=\"dataframe\">\n",
       "  <thead>\n",
       "    <tr style=\"text-align: right;\">\n",
       "      <th></th>\n",
       "      <th>budget</th>\n",
       "      <th>revenue</th>\n",
       "      <th>original_title</th>\n",
       "      <th>director</th>\n",
       "      <th>genres</th>\n",
       "      <th>vote_count</th>\n",
       "      <th>vote_average</th>\n",
       "      <th>release_year</th>\n",
       "    </tr>\n",
       "  </thead>\n",
       "  <tbody>\n",
       "    <tr>\n",
       "      <th>0</th>\n",
       "      <td>150000000</td>\n",
       "      <td>1513528810</td>\n",
       "      <td>Jurassic World</td>\n",
       "      <td>Colin Trevorrow</td>\n",
       "      <td>Action|Adventure|Science Fiction|Thriller</td>\n",
       "      <td>5562</td>\n",
       "      <td>6.5</td>\n",
       "      <td>2015</td>\n",
       "    </tr>\n",
       "    <tr>\n",
       "      <th>1</th>\n",
       "      <td>150000000</td>\n",
       "      <td>378436354</td>\n",
       "      <td>Mad Max: Fury Road</td>\n",
       "      <td>George Miller</td>\n",
       "      <td>Action|Adventure|Science Fiction|Thriller</td>\n",
       "      <td>6185</td>\n",
       "      <td>7.1</td>\n",
       "      <td>2015</td>\n",
       "    </tr>\n",
       "    <tr>\n",
       "      <th>2</th>\n",
       "      <td>110000000</td>\n",
       "      <td>295238201</td>\n",
       "      <td>Insurgent</td>\n",
       "      <td>Robert Schwentke</td>\n",
       "      <td>Adventure|Science Fiction|Thriller</td>\n",
       "      <td>2480</td>\n",
       "      <td>6.3</td>\n",
       "      <td>2015</td>\n",
       "    </tr>\n",
       "    <tr>\n",
       "      <th>3</th>\n",
       "      <td>200000000</td>\n",
       "      <td>2068178225</td>\n",
       "      <td>Star Wars: The Force Awakens</td>\n",
       "      <td>J.J. Abrams</td>\n",
       "      <td>Action|Adventure|Science Fiction|Fantasy</td>\n",
       "      <td>5292</td>\n",
       "      <td>7.5</td>\n",
       "      <td>2015</td>\n",
       "    </tr>\n",
       "    <tr>\n",
       "      <th>4</th>\n",
       "      <td>190000000</td>\n",
       "      <td>1506249360</td>\n",
       "      <td>Furious 7</td>\n",
       "      <td>James Wan</td>\n",
       "      <td>Action|Crime|Thriller</td>\n",
       "      <td>2947</td>\n",
       "      <td>7.3</td>\n",
       "      <td>2015</td>\n",
       "    </tr>\n",
       "  </tbody>\n",
       "</table>\n",
       "</div>"
      ],
      "text/plain": [
       "      budget     revenue                original_title          director  \\\n",
       "0  150000000  1513528810                Jurassic World   Colin Trevorrow   \n",
       "1  150000000   378436354            Mad Max: Fury Road     George Miller   \n",
       "2  110000000   295238201                     Insurgent  Robert Schwentke   \n",
       "3  200000000  2068178225  Star Wars: The Force Awakens       J.J. Abrams   \n",
       "4  190000000  1506249360                     Furious 7         James Wan   \n",
       "\n",
       "                                      genres  vote_count  vote_average  \\\n",
       "0  Action|Adventure|Science Fiction|Thriller        5562           6.5   \n",
       "1  Action|Adventure|Science Fiction|Thriller        6185           7.1   \n",
       "2         Adventure|Science Fiction|Thriller        2480           6.3   \n",
       "3   Action|Adventure|Science Fiction|Fantasy        5292           7.5   \n",
       "4                      Action|Crime|Thriller        2947           7.3   \n",
       "\n",
       "   release_year  \n",
       "0          2015  \n",
       "1          2015  \n",
       "2          2015  \n",
       "3          2015  \n",
       "4          2015  "
      ]
     },
     "execution_count": 171,
     "metadata": {},
     "output_type": "execute_result"
    }
   ],
   "source": [
    "# Subset data with only the columns that we are interested in\n",
    "# Make a list of columns to be deleted\n",
    "remove = [ 'id', 'imdb_id', 'popularity', 'budget_adj', 'revenue_adj', \n",
    "          'homepage', 'cast', 'keywords', 'tagline', 'overview', 'runtime',\n",
    "          'production_companies', 'release_date']\n",
    "\n",
    "# Remove the columns and keep the ones we want\n",
    "movies_df2 = movies_df.drop(remove,1)\n",
    "movies_df2.head()"
   ]
  },
  {
   "cell_type": "code",
   "execution_count": 172,
   "metadata": {},
   "outputs": [
    {
     "data": {
      "text/plain": [
       "(3854, 8)"
      ]
     },
     "execution_count": 172,
     "metadata": {},
     "output_type": "execute_result"
    }
   ],
   "source": [
    "# Remove rows with missing values for budget and revenue or if they equal to 0\n",
    "columns = ['budget','revenue']\n",
    "movies_df2[columns] = movies_df2[columns].replace(0, np.NaN)\n",
    "movies_df2.dropna(subset = columns, inplace=True)\n",
    "\n",
    "# Check rows and columns of the clean dataset\n",
    "movies_df2.shape"
   ]
  },
  {
   "cell_type": "markdown",
   "metadata": {},
   "source": [
    "After removing all rows with budget or revenue that is equalled to 0, there is only 3853 entries remaining (minus the column label)."
   ]
  },
  {
   "cell_type": "code",
   "execution_count": 173,
   "metadata": {
    "scrolled": true
   },
   "outputs": [
    {
     "data": {
      "text/html": [
       "<div>\n",
       "<style scoped>\n",
       "    .dataframe tbody tr th:only-of-type {\n",
       "        vertical-align: middle;\n",
       "    }\n",
       "\n",
       "    .dataframe tbody tr th {\n",
       "        vertical-align: top;\n",
       "    }\n",
       "\n",
       "    .dataframe thead th {\n",
       "        text-align: right;\n",
       "    }\n",
       "</style>\n",
       "<table border=\"1\" class=\"dataframe\">\n",
       "  <thead>\n",
       "    <tr style=\"text-align: right;\">\n",
       "      <th></th>\n",
       "      <th>budget</th>\n",
       "      <th>revenue</th>\n",
       "      <th>profit</th>\n",
       "      <th>original_title</th>\n",
       "      <th>director</th>\n",
       "      <th>genres</th>\n",
       "      <th>vote_count</th>\n",
       "      <th>vote_average</th>\n",
       "      <th>release_year</th>\n",
       "    </tr>\n",
       "  </thead>\n",
       "  <tbody>\n",
       "    <tr>\n",
       "      <th>0</th>\n",
       "      <td>150000000.0</td>\n",
       "      <td>1.513529e+09</td>\n",
       "      <td>1.363529e+09</td>\n",
       "      <td>Jurassic World</td>\n",
       "      <td>Colin Trevorrow</td>\n",
       "      <td>Action|Adventure|Science Fiction|Thriller</td>\n",
       "      <td>5562</td>\n",
       "      <td>6.5</td>\n",
       "      <td>2015</td>\n",
       "    </tr>\n",
       "    <tr>\n",
       "      <th>1</th>\n",
       "      <td>150000000.0</td>\n",
       "      <td>3.784364e+08</td>\n",
       "      <td>2.284364e+08</td>\n",
       "      <td>Mad Max: Fury Road</td>\n",
       "      <td>George Miller</td>\n",
       "      <td>Action|Adventure|Science Fiction|Thriller</td>\n",
       "      <td>6185</td>\n",
       "      <td>7.1</td>\n",
       "      <td>2015</td>\n",
       "    </tr>\n",
       "    <tr>\n",
       "      <th>2</th>\n",
       "      <td>110000000.0</td>\n",
       "      <td>2.952382e+08</td>\n",
       "      <td>1.852382e+08</td>\n",
       "      <td>Insurgent</td>\n",
       "      <td>Robert Schwentke</td>\n",
       "      <td>Adventure|Science Fiction|Thriller</td>\n",
       "      <td>2480</td>\n",
       "      <td>6.3</td>\n",
       "      <td>2015</td>\n",
       "    </tr>\n",
       "    <tr>\n",
       "      <th>3</th>\n",
       "      <td>200000000.0</td>\n",
       "      <td>2.068178e+09</td>\n",
       "      <td>1.868178e+09</td>\n",
       "      <td>Star Wars: The Force Awakens</td>\n",
       "      <td>J.J. Abrams</td>\n",
       "      <td>Action|Adventure|Science Fiction|Fantasy</td>\n",
       "      <td>5292</td>\n",
       "      <td>7.5</td>\n",
       "      <td>2015</td>\n",
       "    </tr>\n",
       "    <tr>\n",
       "      <th>4</th>\n",
       "      <td>190000000.0</td>\n",
       "      <td>1.506249e+09</td>\n",
       "      <td>1.316249e+09</td>\n",
       "      <td>Furious 7</td>\n",
       "      <td>James Wan</td>\n",
       "      <td>Action|Crime|Thriller</td>\n",
       "      <td>2947</td>\n",
       "      <td>7.3</td>\n",
       "      <td>2015</td>\n",
       "    </tr>\n",
       "  </tbody>\n",
       "</table>\n",
       "</div>"
      ],
      "text/plain": [
       "        budget       revenue        profit                original_title  \\\n",
       "0  150000000.0  1.513529e+09  1.363529e+09                Jurassic World   \n",
       "1  150000000.0  3.784364e+08  2.284364e+08            Mad Max: Fury Road   \n",
       "2  110000000.0  2.952382e+08  1.852382e+08                     Insurgent   \n",
       "3  200000000.0  2.068178e+09  1.868178e+09  Star Wars: The Force Awakens   \n",
       "4  190000000.0  1.506249e+09  1.316249e+09                     Furious 7   \n",
       "\n",
       "           director                                     genres  vote_count  \\\n",
       "0   Colin Trevorrow  Action|Adventure|Science Fiction|Thriller        5562   \n",
       "1     George Miller  Action|Adventure|Science Fiction|Thriller        6185   \n",
       "2  Robert Schwentke         Adventure|Science Fiction|Thriller        2480   \n",
       "3       J.J. Abrams   Action|Adventure|Science Fiction|Fantasy        5292   \n",
       "4         James Wan                      Action|Crime|Thriller        2947   \n",
       "\n",
       "   vote_average  release_year  \n",
       "0           6.5          2015  \n",
       "1           7.1          2015  \n",
       "2           6.3          2015  \n",
       "3           7.5          2015  \n",
       "4           7.3          2015  "
      ]
     },
     "execution_count": 173,
     "metadata": {},
     "output_type": "execute_result"
    }
   ],
   "source": [
    "# Create a column for profit\n",
    "# Profit = Revenue - Budget\n",
    "def calc_profit (data):\n",
    "    revenue = data['revenue']\n",
    "    budget = data['budget']\n",
    "    data.insert(2, 'profit', revenue - budget)\n",
    "    return data\n",
    "\n",
    "# Create a new column for profit and check that it is added correctly\n",
    "calc_profit(movies_df2)\n",
    "movies_df2.head(5)"
   ]
  },
  {
   "cell_type": "markdown",
   "metadata": {},
   "source": [
    "The profit column is now added to the dataset. "
   ]
  },
  {
   "cell_type": "markdown",
   "metadata": {},
   "source": [
    "## Data Analysis\n",
    "***\n",
    "> ### Question 1: Which movie has the highest profit and which one has the lowest?"
   ]
  },
  {
   "cell_type": "code",
   "execution_count": 174,
   "metadata": {},
   "outputs": [
    {
     "data": {
      "text/html": [
       "<div>\n",
       "<style scoped>\n",
       "    .dataframe tbody tr th:only-of-type {\n",
       "        vertical-align: middle;\n",
       "    }\n",
       "\n",
       "    .dataframe tbody tr th {\n",
       "        vertical-align: top;\n",
       "    }\n",
       "\n",
       "    .dataframe thead th {\n",
       "        text-align: right;\n",
       "    }\n",
       "</style>\n",
       "<table border=\"1\" class=\"dataframe\">\n",
       "  <thead>\n",
       "    <tr style=\"text-align: right;\">\n",
       "      <th></th>\n",
       "      <th>1386</th>\n",
       "      <th>2244</th>\n",
       "    </tr>\n",
       "  </thead>\n",
       "  <tbody>\n",
       "    <tr>\n",
       "      <th>budget</th>\n",
       "      <td>2.37e+08</td>\n",
       "      <td>4.25e+08</td>\n",
       "    </tr>\n",
       "    <tr>\n",
       "      <th>revenue</th>\n",
       "      <td>2.78151e+09</td>\n",
       "      <td>1.10876e+07</td>\n",
       "    </tr>\n",
       "    <tr>\n",
       "      <th>profit</th>\n",
       "      <td>2.54451e+09</td>\n",
       "      <td>-4.13912e+08</td>\n",
       "    </tr>\n",
       "    <tr>\n",
       "      <th>original_title</th>\n",
       "      <td>Avatar</td>\n",
       "      <td>The Warrior's Way</td>\n",
       "    </tr>\n",
       "    <tr>\n",
       "      <th>director</th>\n",
       "      <td>James Cameron</td>\n",
       "      <td>Sngmoo Lee</td>\n",
       "    </tr>\n",
       "    <tr>\n",
       "      <th>genres</th>\n",
       "      <td>Action|Adventure|Fantasy|Science Fiction</td>\n",
       "      <td>Adventure|Fantasy|Action|Western|Thriller</td>\n",
       "    </tr>\n",
       "    <tr>\n",
       "      <th>vote_count</th>\n",
       "      <td>8458</td>\n",
       "      <td>74</td>\n",
       "    </tr>\n",
       "    <tr>\n",
       "      <th>vote_average</th>\n",
       "      <td>7.1</td>\n",
       "      <td>6.4</td>\n",
       "    </tr>\n",
       "    <tr>\n",
       "      <th>release_year</th>\n",
       "      <td>2009</td>\n",
       "      <td>2010</td>\n",
       "    </tr>\n",
       "  </tbody>\n",
       "</table>\n",
       "</div>"
      ],
      "text/plain": [
       "                                                    1386  \\\n",
       "budget                                          2.37e+08   \n",
       "revenue                                      2.78151e+09   \n",
       "profit                                       2.54451e+09   \n",
       "original_title                                    Avatar   \n",
       "director                                   James Cameron   \n",
       "genres          Action|Adventure|Fantasy|Science Fiction   \n",
       "vote_count                                          8458   \n",
       "vote_average                                         7.1   \n",
       "release_year                                        2009   \n",
       "\n",
       "                                                     2244  \n",
       "budget                                           4.25e+08  \n",
       "revenue                                       1.10876e+07  \n",
       "profit                                       -4.13912e+08  \n",
       "original_title                          The Warrior's Way  \n",
       "director                                       Sngmoo Lee  \n",
       "genres          Adventure|Fantasy|Action|Western|Thriller  \n",
       "vote_count                                             74  \n",
       "vote_average                                          6.4  \n",
       "release_year                                         2010  "
      ]
     },
     "execution_count": 174,
     "metadata": {},
     "output_type": "execute_result"
    }
   ],
   "source": [
    "# Write a function to determine the movies with the highest and lowest profit\n",
    "def max_min_profit(data):\n",
    "    '''This function displays information on movie with the highest profit and the movie with the lowest profit'''\n",
    "    profit = data['profit']\n",
    "    max_profit = profit.idxmax()\n",
    "    max_info = pd.DataFrame(data.loc[max_profit])\n",
    "    min_profit = profit.idxmin()\n",
    "    min_info = pd.DataFrame(data.loc[min_profit])\n",
    "    \n",
    "    return pd.concat([max_info, min_info], axis=1)\n",
    "\n",
    "# The maximum and minimum profit movie information is displayed\n",
    "max_min_profit(movies_df2)"
   ]
  },
  {
   "cell_type": "markdown",
   "metadata": {},
   "source": [
    "The above information shows that Avatar is the highest grossing movie, reaching a shocking \\$2,544,505,847 of profit. On the contrary, The Warrior's Way unfortunately is at a \\$413,912,431 deficit as the budget greatly exceeds the revenue of this movie. "
   ]
  },
  {
   "cell_type": "markdown",
   "metadata": {},
   "source": [
    "> ### Question 2: Do movies with higher budget generate more revenue?"
   ]
  },
  {
   "cell_type": "code",
   "execution_count": 175,
   "metadata": {},
   "outputs": [
    {
     "data": {
      "text/html": [
       "<div>\n",
       "<style scoped>\n",
       "    .dataframe tbody tr th:only-of-type {\n",
       "        vertical-align: middle;\n",
       "    }\n",
       "\n",
       "    .dataframe tbody tr th {\n",
       "        vertical-align: top;\n",
       "    }\n",
       "\n",
       "    .dataframe thead th {\n",
       "        text-align: right;\n",
       "    }\n",
       "</style>\n",
       "<table border=\"1\" class=\"dataframe\">\n",
       "  <thead>\n",
       "    <tr style=\"text-align: right;\">\n",
       "      <th></th>\n",
       "      <th>budget</th>\n",
       "      <th>revenue</th>\n",
       "    </tr>\n",
       "  </thead>\n",
       "  <tbody>\n",
       "    <tr>\n",
       "      <th>budget</th>\n",
       "      <td>1.000000</td>\n",
       "      <td>0.688556</td>\n",
       "    </tr>\n",
       "    <tr>\n",
       "      <th>revenue</th>\n",
       "      <td>0.688556</td>\n",
       "      <td>1.000000</td>\n",
       "    </tr>\n",
       "  </tbody>\n",
       "</table>\n",
       "</div>"
      ],
      "text/plain": [
       "           budget   revenue\n",
       "budget   1.000000  0.688556\n",
       "revenue  0.688556  1.000000"
      ]
     },
     "execution_count": 175,
     "metadata": {},
     "output_type": "execute_result"
    },
    {
     "data": {
      "image/png": "[encoded data removed]",
      "text/plain": [
       "<Figure size 432x288 with 1 Axes>"
      ]
     },
     "metadata": {},
     "output_type": "display_data"
    }
   ],
   "source": [
    "# Scatterplot between budget and revenue to examine trend\n",
    "plt.scatter(movies_df2['budget'],movies_df2['revenue'])\n",
    "plt.xlabel('Budget($)')\n",
    "plt.ylabel('Revenue($)')\n",
    "plt.title('Budget vs Revenue Plot')\n",
    "\n",
    "# Pearson correlation\n",
    "movies_df2[columns].corr(method='pearson')"
   ]
  },
  {
   "cell_type": "markdown",
   "metadata": {},
   "source": [
    "Some observations of this plot:\n",
    "- Budget and revenue is positively correlated (r=0.69)\n",
    "- The correlation is decent but not very strong"
   ]
  },
  {
   "cell_type": "markdown",
   "metadata": {},
   "source": [
    "> ### Question 3: How does user ratings affect profit?"
   ]
  },
  {
   "cell_type": "code",
   "execution_count": 176,
   "metadata": {
    "scrolled": true
   },
   "outputs": [
    {
     "data": {
      "text/html": [
       "<div>\n",
       "<style scoped>\n",
       "    .dataframe tbody tr th:only-of-type {\n",
       "        vertical-align: middle;\n",
       "    }\n",
       "\n",
       "    .dataframe tbody tr th {\n",
       "        vertical-align: top;\n",
       "    }\n",
       "\n",
       "    .dataframe thead th {\n",
       "        text-align: right;\n",
       "    }\n",
       "</style>\n",
       "<table border=\"1\" class=\"dataframe\">\n",
       "  <thead>\n",
       "    <tr style=\"text-align: right;\">\n",
       "      <th></th>\n",
       "      <th>profit</th>\n",
       "      <th>vote_average</th>\n",
       "    </tr>\n",
       "  </thead>\n",
       "  <tbody>\n",
       "    <tr>\n",
       "      <th>profit</th>\n",
       "      <td>1.000000</td>\n",
       "      <td>0.259435</td>\n",
       "    </tr>\n",
       "    <tr>\n",
       "      <th>vote_average</th>\n",
       "      <td>0.259435</td>\n",
       "      <td>1.000000</td>\n",
       "    </tr>\n",
       "  </tbody>\n",
       "</table>\n",
       "</div>"
      ],
      "text/plain": [
       "                profit  vote_average\n",
       "profit        1.000000      0.259435\n",
       "vote_average  0.259435      1.000000"
      ]
     },
     "execution_count": 176,
     "metadata": {},
     "output_type": "execute_result"
    },
    {
     "data": {
      "image/png": "[encoded data removed]",
      "text/plain": [
       "<Figure size 432x288 with 1 Axes>"
      ]
     },
     "metadata": {},
     "output_type": "display_data"
    }
   ],
   "source": [
    "# Scatterplot between budget and revenue to examine trend\n",
    "plt.scatter(movies_df2['profit'],movies_df2['vote_average'])\n",
    "plt.xlabel('Profit($)')\n",
    "plt.ylabel('User Rating (Score 1 to 10)')\n",
    "plt.title('Profit vs User Vote Average Plot')\n",
    "\n",
    "# Pearson correlation\n",
    "vote_profit = ['profit','vote_average']\n",
    "movies_df2[vote_profit].corr(method='pearson')"
   ]
  },
  {
   "cell_type": "markdown",
   "metadata": {},
   "source": [
    "Some observations of this plot:\n",
    "- There is no obvious correlation between vote average and profit\n",
    "- Most datapoints fall between \\$0 to \\$50,000,000 of profit and the scores range between 3 to 9\n",
    "- The correlation coeffecient r = 0.26, this shows very weak correlation"
   ]
  },
  {
   "cell_type": "code",
   "execution_count": 177,
   "metadata": {
    "scrolled": true
   },
   "outputs": [
    {
     "name": "stdout",
     "output_type": "stream",
     "text": [
      "        vote_count  vote_average\n",
      "count  3854.000000   3854.000000\n",
      "mean    527.720291      6.168163\n",
      "std     879.956821      0.794920\n",
      "min      10.000000      2.200000\n",
      "25%      71.000000      5.700000\n",
      "50%     204.000000      6.200000\n",
      "75%     580.000000      6.700000\n",
      "max    9767.000000      8.400000\n"
     ]
    }
   ],
   "source": [
    "# Check vote count and vote average information  \n",
    "vote_info = movies_df2['vote_count'].describe()\n",
    "score_info = movies_df2['vote_average'].describe()\n",
    "print(pd.concat([vote_info,score_info], axis=1))"
   ]
  },
  {
   "cell_type": "markdown",
   "metadata": {},
   "source": [
    "The above information for vote_average(scores) does match with the plot showing an averge score around 6 and with minimum socre at around 2.2, maximum score at 8.4. However, There is a huge range of vote counts for different movies as the minimum count is 10 and the maximum count is 9767 with an overall average count of 527. The large discrepency in vote counts between movies may explain why there is no correlation between user rating and profit. "
   ]
  },
  {
   "cell_type": "markdown",
   "metadata": {},
   "source": [
    "> ### Question 4: How does profit change over the years?"
   ]
  },
  {
   "cell_type": "code",
   "execution_count": 178,
   "metadata": {
    "scrolled": false
   },
   "outputs": [
    {
     "data": {
      "text/plain": [
       "Text(0.5,1,'Annual Change in Profit')"
      ]
     },
     "execution_count": 178,
     "metadata": {},
     "output_type": "execute_result"
    },
    {
     "data": {
      "image/png": "[encoded data removed]",
      "text/plain": [
       "<Figure size 432x288 with 1 Axes>"
      ]
     },
     "metadata": {},
     "output_type": "display_data"
    }
   ],
   "source": [
    "# Group the data by release year and then sum up the profit for each year\n",
    "total_annual_profit = movies_df2.groupby('release_year')['profit'].sum()\n",
    "\n",
    "# Plot the change in annual profit over years\n",
    "plt.plot(total_annual_profit)\n",
    "plt.xlabel('Year')\n",
    "plt.ylabel('Total Profit ($)')\n",
    "plt.title('Annual Change in Profit')"
   ]
  },
  {
   "cell_type": "code",
   "execution_count": 179,
   "metadata": {
    "scrolled": false
   },
   "outputs": [
    {
     "data": {
      "text/plain": [
       "Text(0.5,1,'Annual Change in Average Profit')"
      ]
     },
     "execution_count": 179,
     "metadata": {},
     "output_type": "execute_result"
    },
    {
     "data": {
      "image/png": "[encoded data removed]",
      "text/plain": [
       "<Figure size 432x288 with 1 Axes>"
      ]
     },
     "metadata": {},
     "output_type": "display_data"
    }
   ],
   "source": [
    "# Group the data by release year and then calculate the average profit for each year\n",
    "total_avg_profit = movies_df2.groupby('release_year')['profit'].mean()\n",
    "\n",
    "# Plot the change in average profit over years\n",
    "plt.plot(total_avg_profit)\n",
    "plt.xlabel('Year')\n",
    "plt.ylabel('Average Profit ($)')\n",
    "plt.title('Annual Change in Average Profit')"
   ]
  },
  {
   "cell_type": "markdown",
   "metadata": {},
   "source": [
    "Some observations of the plots:\n",
    "- Both plots show an increasing profit over years\n",
    "- The total annual profit has a steady increase over the last 50 years\n",
    "- The average annual profit also increases over the years but there is more drastic fluctuations, which is expected"
   ]
  },
  {
   "cell_type": "markdown",
   "metadata": {},
   "source": [
    "> ### Question 5: Which directors generate the highest profit?"
   ]
  },
  {
   "cell_type": "code",
   "execution_count": 358,
   "metadata": {
    "scrolled": true
   },
   "outputs": [
    {
     "data": {
      "text/plain": [
       "Text(0,0.5,'Director')"
      ]
     },
     "execution_count": 358,
     "metadata": {},
     "output_type": "execute_result"
    },
    {
     "data": {
      "image/png": "[encoded data removed]",
      "text/plain": [
       "<Figure size 432x288 with 1 Axes>"
      ]
     },
     "metadata": {},
     "output_type": "display_data"
    }
   ],
   "source": [
    "# Group the data by release year and then sum up the profit for each year\n",
    "dir_df = movies_df2 \n",
    "dir_df.dropna(subset=['director'], inplace=True)\n",
    "dir_profit = dir_df.groupby('director')['profit'].sum().reset_index()\n",
    "dir_profit.sort_values(by='profit', ascending=False, inplace=True)\n",
    "\n",
    "# Create a slice of the top 10 directors with the highest profits for plotting\n",
    "top_dir = dir_profit[:10]\n",
    "\n",
    "# Bar plot for the top 10 grossing directors\n",
    "plot = top_dir.plot.barh(x='director', y='profit', legend=None, title='Top 10 Grossing Director')\n",
    "plot.set_xlabel('Profit ($)')\n",
    "plot.set_ylabel('Director')"
   ]
  },
  {
   "cell_type": "markdown",
   "metadata": {},
   "source": [
    "The top 10 grossing directors are listed in the bar plot with Steven Spielberg in the first place at \\$7.5 billion dollars."
   ]
  },
  {
   "cell_type": "markdown",
   "metadata": {},
   "source": [
    "> ### Question 6: Which movie genre generate the highest profit?"
   ]
  },
  {
   "cell_type": "code",
   "execution_count": 359,
   "metadata": {
    "scrolled": true
   },
   "outputs": [],
   "source": [
    "# Determine the unique genres in the dataset and the number of movies in each genre\n",
    "def extract(column):\n",
    "    '''This function determines the number of movies under each inidivual genre\n",
    "    by separating all the genres with | and then string split at |'''\n",
    "    data = movies_df2[column].str.cat(sep = '|')\n",
    "    data = pd.Series(data.split('|'))\n",
    "    count = data.value_counts(ascending = False)\n",
    "    return count\n",
    "\n",
    "# Create dataframe that stores all the unique genres and corresponding movie counts\n",
    "genre_list = extract('genres')\n",
    "genre_list = pd.DataFrame(genre_list).reset_index()\n",
    "genre_list.columns = ['genres','count']"
   ]
  },
  {
   "cell_type": "code",
   "execution_count": 356,
   "metadata": {},
   "outputs": [],
   "source": [
    "# Create a subset of the dataset with genres and profit\n",
    "col = ['genres','profit']\n",
    "genre_df = movies_df2[col]\n",
    "\n",
    "# Create a list of genres that has more than 10 movie counts\n",
    "top_genres = ['Drama', 'Comedy', 'Thriller','Action', 'Adventure', 'Romance', \n",
    "              'Crime', 'Science Fiction', 'Horror', 'Family','Fantasy', \n",
    "              'Mystery','Animation','Music', 'History', 'War', 'Western',\n",
    "              'Documentary', 'Foreign']\n",
    "\n",
    "# Calculate the total amount of profit for each movie genre and sort the values in decreasing order\n",
    "genre_list = genre_df[genre_df.genres.isin(top_genres)].groupby('genres').profit.sum().reset_index()\n",
    "genre_list.sort_values(by='profit', ascending=False, inplace=True)"
   ]
  },
  {
   "cell_type": "code",
   "execution_count": 352,
   "metadata": {
    "scrolled": true
   },
   "outputs": [
    {
     "data": {
      "text/plain": [
       "Text(0,0.5,'Genres')"
      ]
     },
     "execution_count": 352,
     "metadata": {},
     "output_type": "execute_result"
    },
    {
     "data": {
      "image/png": "[encoded data removed]",
      "text/plain": [
       "<Figure size 432x288 with 1 Axes>"
      ]
     },
     "metadata": {},
     "output_type": "display_data"
    }
   ],
   "source": [
    "# Bar plot for the top 10 grossing directors\n",
    "plot = genre_list.plot.barh(x='genres', y='profit', legend=None, title='Top Grossing Movie Genres')\n",
    "plot.set_xlabel('Profit ($)')\n",
    "plot.set_ylabel('Genres')"
   ]
  },
  {
   "cell_type": "markdown",
   "metadata": {},
   "source": [
    "The plot above shows the total profit from each movie genre. Comedy is by far the most profitable movie genre, reaching a total profit of \\$12 billion dollars."
   ]
  },
  {
   "cell_type": "markdown",
   "metadata": {},
   "source": [
    "## Conclusion\n",
    "***\n",
    "After answering all the questions that I have discussed in the introduction, I definitely found some interesting results. Out of curiosity, I first performed a comparison between the highest grossing movie (Avatar) and the lowest grossing movie (The Warrior's Way). From this I found that Avatar has a much higher vote count and The Warrior's Way had a much high budget (almost doubled). However, it is definitely not enough by just comparing two movies. Here is a summary of the findings after some more detailed analysis, which can potentially be used as a criteria for creating a profitable movie:\n",
    "\n",
    "1. Budget is postively correlated with revenue, thus higher budget may generate more revenue\n",
    "2. View ratings does not have a strong correlation with profit, but it's good to note that high profit movies have a higher rating than average\n",
    "3. There is a steady increase in total annual profit over the last 50 years. So if you want to make a movie, now is better than ever\n",
    "4. The movie directors for a likely profitable movie are: Steven Spielberg, Peter Jackson, James Cameron, Michael Bay, David Yates, Christopher Nolan\n",
    "5. The movie genres for a likely profitable movie are: Comedy, Drama, Horror, Action, Documentary, Adventure\n",
    "\n",
    "### Limitations:\n",
    "- This is not a 100% guaranteed profitable criteria for a movie because there are many other aspects involved in creating a successful movie that are not considered in this analysis (such as marketing, audiences' taste is subjected to change depending on trends and etc)\n",
    "- There is not specified currency in this dataset for budget and revenue, thus the movie earnings may be in different currencies which will change the results of the analysis\n",
    "- The dataset may not be up to date and for this analysis we can not confirm how reliable or accurate the information is. \n",
    "\n",
    "Nevertheless, this was an interesting project that added many movies to my to-watch list. \n",
    "***"
   ]
  }
 ],
 "metadata": {
  "kernelspec": {
   "display_name": "Python [conda env:my_env]",
   "language": "python",
   "name": "conda-env-my_env-py"
  },
  "language_info": {
   "codemirror_mode": {
    "name": "ipython",
    "version": 3
   },
   "file_extension": ".py",
   "mimetype": "text/x-python",
   "name": "python",
   "nbconvert_exporter": "python",
   "pygments_lexer": "ipython3",
   "version": "3.6.5"
  }
 },
 "nbformat": 4,
 "nbformat_minor": 2
}
